{
 "cells": [
  {
   "cell_type": "markdown",
   "metadata": {},
   "source": [
    "## Imports"
   ]
  },
  {
   "cell_type": "code",
   "execution_count": 33,
   "metadata": {},
   "outputs": [
    {
     "ename": "SyntaxError",
     "evalue": "invalid syntax (776243004.py, line 13)",
     "output_type": "error",
     "traceback": [
      "\u001b[0;36m  Input \u001b[0;32mIn [33]\u001b[0;36m\u001b[0m\n\u001b[0;31m    pip install\u001b[0m\n\u001b[0m        ^\u001b[0m\n\u001b[0;31mSyntaxError\u001b[0m\u001b[0;31m:\u001b[0m invalid syntax\n"
     ]
    }
   ],
   "source": [
    "from pathlib import Path\n",
    "\n",
    "QTILE_HOME = Path.home().resolve() / \".config\" / \"qtile\"\n",
    "MODULES = QTILE_HOME / \"modules\"\n",
    "TESTS = QTILE_HOME / \"tests\"\n",
    "CLASSES = QTILE_HOME / \"utilities\" / \"classes\"\n",
    "FUNCTIONS = QTILE_HOME / \"utilities\" / \"functions\"\n",
    "\n",
    "_wehave = FUNCTIONS / \"wehave.py\"\n",
    "print(_wehave)\n",
    "\n",
    "# from utilities.functions.wehave import wehave"
   ]
  },
  {
   "cell_type": "code",
   "execution_count": 34,
   "metadata": {},
   "outputs": [
    {
     "ename": "ModuleNotFoundError",
     "evalue": "No module named 'wehave'",
     "output_type": "error",
     "traceback": [
      "\u001b[0;31m---------------------------------------------------------------------------\u001b[0m",
      "\u001b[0;31mModuleNotFoundError\u001b[0m                       Traceback (most recent call last)",
      "\u001b[1;32m/home/qc/.config/qtile/tests/tty_cmd.ipynb Cell 3\u001b[0m in \u001b[0;36m<cell line: 4>\u001b[0;34m()\u001b[0m\n\u001b[1;32m      <a href='vscode-notebook-cell:/home/qc/.config/qtile/tests/tty_cmd.ipynb#X21sZmlsZQ%3D%3D?line=0'>1</a>\u001b[0m \u001b[39mimport\u001b[39;00m \u001b[39msys\u001b[39;00m\n\u001b[1;32m      <a href='vscode-notebook-cell:/home/qc/.config/qtile/tests/tty_cmd.ipynb#X21sZmlsZQ%3D%3D?line=1'>2</a>\u001b[0m sys\u001b[39m.\u001b[39mpath\u001b[39m.\u001b[39mappend(\u001b[39m'\u001b[39m\u001b[39m/home/qc/.config/qtile/utilities/functions/wehave.py\u001b[39m\u001b[39m'\u001b[39m)\n\u001b[0;32m----> <a href='vscode-notebook-cell:/home/qc/.config/qtile/tests/tty_cmd.ipynb#X21sZmlsZQ%3D%3D?line=3'>4</a>\u001b[0m \u001b[39mimport\u001b[39;00m \u001b[39mwehave\u001b[39;00m\n",
      "\u001b[0;31mModuleNotFoundError\u001b[0m: No module named 'wehave'"
     ]
    }
   ],
   "source": [
    "import sys\n",
    "sys.path.append('/home/qc/.config/qtile/utilities/functions/wehave.py')\n",
    "\n",
    "import wehave\n"
   ]
  },
  {
   "cell_type": "markdown",
   "metadata": {},
   "source": [
    "## Declarations"
   ]
  },
  {
   "cell_type": "code",
   "execution_count": 8,
   "metadata": {},
   "outputs": [],
   "source": [
    "list_of_strings = [\n",
    "  \"cat\", \n",
    "  \"bat\",\n",
    "  \"bal\",\n",
    "  \"yay\",\n",
    "  \"paru\",\n",
    "]\n",
    "tuple_of_strings = (\n",
    "  \"awks\", \n",
    "  \"xterm\", \n",
    "  \"kitty\", \n",
    "  \"awk\",\n",
    ")\n",
    "dict_of_strings = {\n",
    "  \"kittsy\": \"-class\",\n",
    "  \"alacgritty\": \"--class\",\n",
    "  \"st\": \"-c\",\n",
    "}\n",
    "single_string = \"pop\"\n",
    "strings_sep_space = \"curseradio btm xterm cat\"\n",
    "strings_sep_comma = \"btm,alacritty,kitty,st\""
   ]
  },
  {
   "cell_type": "code",
   "execution_count": 9,
   "metadata": {},
   "outputs": [
    {
     "name": "stdout",
     "output_type": "stream",
     "text": [
      "5 | <class 'list'> | ['cat', 'bat', 'bal', 'yay', 'paru']\n",
      "4 | <class 'tuple'> | ('awks', 'xterm', 'kitty', 'awk')\n",
      "3 | <class 'dict'> | {'kittsy': '-class', 'alacgritty': '--class', 'st': '-c'}\n"
     ]
    },
    {
     "ename": "NameError",
     "evalue": "name 'string_test' is not defined",
     "output_type": "error",
     "traceback": [
      "\u001b[0;31m---------------------------------------------------------------------------\u001b[0m",
      "\u001b[0;31mNameError\u001b[0m                                 Traceback (most recent call last)",
      "\u001b[1;32m/home/qc/.config/qtile/tests/tty_cmd.ipynb Cell 5\u001b[0m in \u001b[0;36m<cell line: 4>\u001b[0;34m()\u001b[0m\n\u001b[1;32m      <a href='vscode-notebook-cell:/home/qc/.config/qtile/tests/tty_cmd.ipynb#W4sZmlsZQ%3D%3D?line=1'>2</a>\u001b[0m \u001b[39mprint\u001b[39m(\u001b[39mf\u001b[39m\u001b[39m'\u001b[39m\u001b[39m{\u001b[39;00m\u001b[39mlen\u001b[39m(tuple_of_strings)\u001b[39m}\u001b[39;00m\u001b[39m | \u001b[39m\u001b[39m{\u001b[39;00m\u001b[39mtype\u001b[39m(tuple_of_strings)\u001b[39m}\u001b[39;00m\u001b[39m | \u001b[39m\u001b[39m{\u001b[39;00mtuple_of_strings\u001b[39m}\u001b[39;00m\u001b[39m'\u001b[39m)\n\u001b[1;32m      <a href='vscode-notebook-cell:/home/qc/.config/qtile/tests/tty_cmd.ipynb#W4sZmlsZQ%3D%3D?line=2'>3</a>\u001b[0m \u001b[39mprint\u001b[39m(\u001b[39mf\u001b[39m\u001b[39m'\u001b[39m\u001b[39m{\u001b[39;00m\u001b[39mlen\u001b[39m(dict_of_strings)\u001b[39m}\u001b[39;00m\u001b[39m | \u001b[39m\u001b[39m{\u001b[39;00m\u001b[39mtype\u001b[39m(dict_of_strings)\u001b[39m}\u001b[39;00m\u001b[39m | \u001b[39m\u001b[39m{\u001b[39;00mdict_of_strings\u001b[39m}\u001b[39;00m\u001b[39m'\u001b[39m)\n\u001b[0;32m----> <a href='vscode-notebook-cell:/home/qc/.config/qtile/tests/tty_cmd.ipynb#W4sZmlsZQ%3D%3D?line=3'>4</a>\u001b[0m \u001b[39mprint\u001b[39m(\u001b[39mf\u001b[39m\u001b[39m'\u001b[39m\u001b[39m{\u001b[39;00m\u001b[39mlen\u001b[39m(string_test)\u001b[39m}\u001b[39;00m\u001b[39m | \u001b[39m\u001b[39m{\u001b[39;00m\u001b[39mtype\u001b[39m(string_test)\u001b[39m}\u001b[39;00m\u001b[39m | \u001b[39m\u001b[39m{\u001b[39;00mstring_test\u001b[39m}\u001b[39;00m\u001b[39m'\u001b[39m)\n\u001b[1;32m      <a href='vscode-notebook-cell:/home/qc/.config/qtile/tests/tty_cmd.ipynb#W4sZmlsZQ%3D%3D?line=4'>5</a>\u001b[0m \u001b[39mprint\u001b[39m(\u001b[39mf\u001b[39m\u001b[39m'\u001b[39m\u001b[39m{\u001b[39;00m\u001b[39mlen\u001b[39m(string_term)\u001b[39m}\u001b[39;00m\u001b[39m | \u001b[39m\u001b[39m{\u001b[39;00m\u001b[39mtype\u001b[39m(string_term)\u001b[39m}\u001b[39;00m\u001b[39m | \u001b[39m\u001b[39m{\u001b[39;00mstring_term\u001b[39m}\u001b[39;00m\u001b[39m'\u001b[39m)\n",
      "\u001b[0;31mNameError\u001b[0m: name 'string_test' is not defined"
     ]
    }
   ],
   "source": [
    "print(f'{len(list_of_strings)} | {type(list_of_strings)} | {list_of_strings}')\n",
    "print(f'{len(tuple_of_strings)} | {type(tuple_of_strings)} | {tuple_of_strings}')\n",
    "print(f'{len(dict_of_strings)} | {type(dict_of_strings)} | {dict_of_strings}')\n",
    "print(f'{len(string_test)} | {type(string_test)} | {string_test}')\n",
    "print(f'{len(string_term)} | {type(string_term)} | {string_term}')"
   ]
  },
  {
   "cell_type": "markdown",
   "metadata": {},
   "source": [
    "## Classes"
   ]
  },
  {
   "cell_type": "code",
   "execution_count": null,
   "metadata": {},
   "outputs": [],
   "source": [
    "# ref: https://stackoverflow.com/questions/56878667/setting-default-values-in-a-class\n",
    "\n",
    "class Command:\n",
    "\n",
    "    _command = []\n",
    "\n",
    "    def __init__(self):\n",
    "        self._command = None\n",
    "        self.reset_default_values()\n",
    "\n",
    "    def reset_default_values(self):\n",
    "        self._command = Command._command\n",
    "\n",
    "    @property\n",
    "    def command(self):\n",
    "        # | Convert literal string to a list\n",
    "        if isinstance(self._command, str):\n",
    "            if \",\" in self._command:\n",
    "                return self._command.split(\",\")\n",
    "            else:\n",
    "                return self._command.split()\n",
    "\n",
    "        # | Convert dictionary valurs to a list\n",
    "        elif isinstance(self._command, dict):\n",
    "            return list(self._command.keys())\n",
    "\n",
    "        # | Put other iterable items in a list\n",
    "        else:\n",
    "            return self._command\n",
    "\n",
    "    @command.setter\n",
    "    def command(self, value):\n",
    "        self._command = value\n",
    "\n",
    "    def __iter__(self):\n",
    "        return iter([self.command])\n",
    "        \n",
    "    # cmd = Command()\n",
    "    # print(cmd.command)\n",
    "\n",
    "    # cmd.command = 42\n",
    "    # print(cmd.command)\"bat\"\n",
    "\n",
    "    # cmd.reset_default_values()\n",
    "    # print(cmd.command)"
   ]
  },
  {
   "cell_type": "code",
   "execution_count": null,
   "metadata": {},
   "outputs": [],
   "source": [
    "cmd = Command()\n",
    "\n",
    "cmd.command = tuple_of_strings\n",
    "print(f'Type: {type(cmd.command)} | Length: {len(cmd.command)} | Items: {cmd.command}')\n",
    "\n",
    "cmd.command = list_of_strings\n",
    "print(f'Type: {type(cmd.command)} | Length: {len(cmd.command)} | Items: {cmd.command}')\n",
    "\n",
    "cmd.command = dict_of_strings\n",
    "print(f'Type: {type(cmd.command)} | Length: {len(cmd.command)} | Items: {cmd.command}')\n",
    "\n",
    "cmd.command = single_string\n",
    "print(f'Type: {type(cmd.command)} | Length: {len(cmd.command)} | Items: {cmd.command}')\n",
    "\n",
    "cmd.command = strings_sep_space\n",
    "print(f'Type: {type(cmd.command)} | Length: {len(cmd.command)} | Items: {cmd.command}')\n",
    "\n",
    "cmd.command = strings_sep_comma\n",
    "print(f'Type: {type(cmd.command)} | Length: {len(cmd.command)} | Items: {cmd.command}')\n",
    "\n",
    "cmd.command = \"bat\"\n",
    "print(f'Type: {type(cmd.command)} | Length: {len(cmd.command)} | Items: {cmd.command}')"
   ]
  },
  {
   "cell_type": "markdown",
   "metadata": {},
   "source": [
    "## Main"
   ]
  },
  {
   "cell_type": "markdown",
   "metadata": {},
   "source": [
    "### Available"
   ]
  },
  {
   "cell_type": "code",
   "execution_count": null,
   "metadata": {},
   "outputs": [],
   "source": [
    "def wehave(cmd):\n",
    "    CMD = Command()\n",
    "    CMD.command = cmd\n",
    "    \n",
    "    for cmd in CMD.command:\n",
    "        if which(cmd):\n",
    "            return cmd\n",
    "            break\n",
    "    # else:\n",
    "    #     raise ValueError(f\"Verify wehave `{cmd}` installed.\")"
   ]
  },
  {
   "cell_type": "code",
   "execution_count": null,
   "metadata": {},
   "outputs": [],
   "source": [
    "print(f'Items: {list_of_strings} | Type: {type(wehave(list_of_strings))} | Avaliable: {wehave(list_of_strings)}')\n",
    "print(f'Items: {tuple_of_strings} | Type: {type(wehave(tuple_of_strings))} | Avaliable: {wehave(tuple_of_strings)}')\n",
    "print(f'Items: {dict_of_strings} | Type: {type(wehave(dict_of_strings))} | Avaliable: {wehave(dict_of_strings)}')\n",
    "print(f'Items: {strings_sep_space} | Type: {type(wehave(strings_sep_space))} | Avaliable: {wehave(strings_sep_space)}')\n",
    "print(f'Items: {strings_sep_comma} | Type: {type(wehave(strings_sep_comma))} | Avaliable: {wehave(strings_sep_comma)}')\n",
    "print(f'Items: {single_string} | Type: {type(wehave(single_string))} | Avaliable: {wehave(single_string)}')\n"
   ]
  },
  {
   "cell_type": "markdown",
   "metadata": {},
   "source": [
    "### Location"
   ]
  },
  {
   "cell_type": "code",
   "execution_count": null,
   "metadata": {},
   "outputs": [],
   "source": [
    "def wehave_location(cmd):\n",
    "    CMD = Command()\n",
    "    CMD.command = cmd\n",
    "    \n",
    "    for cmd in CMD.command:\n",
    "        if which(cmd):\n",
    "            return which(cmd)\n",
    "            break\n",
    "    else:\n",
    "        raise ValueError(f\"Verify wehave `{cmd}` installed.\")\n"
   ]
  },
  {
   "cell_type": "code",
   "execution_count": null,
   "metadata": {},
   "outputs": [],
   "source": [
    "print(f'Avaliable: {wehave(tuple_of_strings)} | Location: {wehave_location(tuple_of_strings)}')\n",
    "print(f'Avaliable: {wehave(list_of_strings)} | Location: {wehave_location(list_of_strings)}')\n",
    "print(f'Avaliable: {wehave(dict_of_strings)} | Location: {wehave_location(dict_of_strings)}')\n",
    "print(f'Avaliable: {wehave(strings_sep_space)} | Location: {wehave_location(strings_sep_space)}')\n",
    "print(f'Avaliable: {wehave(strings_sep_comma)} | Location: {wehave_location(strings_sep_comma)}')\n",
    "print(f'Avaliable: {wehave(single_string)} | Location: {wehave_location(single_string)}')"
   ]
  }
 ],
 "metadata": {
  "kernelspec": {
   "display_name": "Python 3.10.6 64-bit",
   "language": "python",
   "name": "python3"
  },
  "language_info": {
   "codemirror_mode": {
    "name": "ipython",
    "version": 3
   },
   "file_extension": ".py",
   "mimetype": "text/x-python",
   "name": "python",
   "nbconvert_exporter": "python",
   "pygments_lexer": "ipython3",
   "version": "3.10.6"
  },
  "orig_nbformat": 4,
  "vscode": {
   "interpreter": {
    "hash": "e7370f93d1d0cde622a1f8e1c04877d8463912d04d973331ad4851f04de6915a"
   }
  }
 },
 "nbformat": 4,
 "nbformat_minor": 2
}
