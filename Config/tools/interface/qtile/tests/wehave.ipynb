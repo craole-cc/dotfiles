{
 "cells": [
  {
   "cell_type": "markdown",
   "metadata": {},
   "source": [
    "## Imports"
   ]
  },
  {
   "cell_type": "code",
   "execution_count": 699,
   "metadata": {},
   "outputs": [],
   "source": [
    "from shutil import which"
   ]
  },
  {
   "cell_type": "markdown",
   "metadata": {},
   "source": [
    "## Declarations"
   ]
  },
  {
   "cell_type": "code",
   "execution_count": 700,
   "metadata": {},
   "outputs": [],
   "source": [
    "list_of_strings = [\n",
    "  \"cat\", \n",
    "  \"bat\",\n",
    "  \"bal\",\n",
    "  \"yay\",\n",
    "  \"paru\",\n",
    "]\n",
    "tuple_of_strings = (\n",
    "  \"awks\", \n",
    "  \"xterm\", \n",
    "  \"kitty\", \n",
    "  \"awk\",\n",
    ")\n",
    "dict_of_strings = {\n",
    "  \"kittsy\": \"-class\",\n",
    "  \"alacgritty\": \"--class\",\n",
    "  \"st\": \"-c\",\n",
    "}\n",
    "single_string = \"pop\"\n",
    "strings_sep_space = \"curseradio btm xterm cat\"\n",
    "strings_sep_comma = \"btm,alacritty,kitty,st\""
   ]
  },
  {
   "cell_type": "code",
   "execution_count": 701,
   "metadata": {},
   "outputs": [
    {
     "name": "stdout",
     "output_type": "stream",
     "text": [
      "5 | <class 'list'> | ['cat', 'bat', 'bal', 'yay', 'paru']\n",
      "4 | <class 'tuple'> | ('awks', 'xterm', 'kitty', 'awk')\n",
      "3 | <class 'dict'> | {'kittsy': '-class', 'alacgritty': '--class', 'st': '-c'}\n",
      "3 | <class 'str'> | btm\n",
      "9 | <class 'str'> | alacritty\n"
     ]
    }
   ],
   "source": [
    "print(f'{len(list_of_strings)} | {type(list_of_strings)} | {list_of_strings}')\n",
    "print(f'{len(tuple_of_strings)} | {type(tuple_of_strings)} | {tuple_of_strings}')\n",
    "print(f'{len(dict_of_strings)} | {type(dict_of_strings)} | {dict_of_strings}')\n",
    "print(f'{len(string_test)} | {type(string_test)} | {string_test}')\n",
    "print(f'{len(string_term)} | {type(string_term)} | {string_term}')"
   ]
  },
  {
   "cell_type": "markdown",
   "metadata": {},
   "source": [
    "## Classes"
   ]
  },
  {
   "cell_type": "code",
   "execution_count": 702,
   "metadata": {},
   "outputs": [],
   "source": [
    "# ref: https://stackoverflow.com/questions/56878667/setting-default-values-in-a-class\n",
    "\n",
    "class Command:\n",
    "\n",
    "    _command = []\n",
    "\n",
    "    def __init__(self):\n",
    "        self._command = None\n",
    "        self.reset_default_values()\n",
    "\n",
    "    def reset_default_values(self):\n",
    "        self._command = Command._command\n",
    "\n",
    "    @property\n",
    "    def command(self):\n",
    "        # | Convert literal string to a list\n",
    "        if isinstance(self._command, str):\n",
    "            if \",\" in self._command:\n",
    "                return self._command.split(\",\")\n",
    "            else:\n",
    "                return self._command.split()\n",
    "\n",
    "        # | Convert dictionary valurs to a list\n",
    "        elif isinstance(self._command, dict):\n",
    "            return list(self._command.keys())\n",
    "\n",
    "        # | Put other iterable items in a list\n",
    "        else:\n",
    "            return self._command\n",
    "\n",
    "    @command.setter\n",
    "    def command(self, value):\n",
    "        self._command = value\n",
    "\n",
    "    def __iter__(self):\n",
    "        return iter([self.command])\n",
    "        \n",
    "    # cmd = Command()\n",
    "    # print(cmd.command)\n",
    "\n",
    "    # cmd.command = 42\n",
    "    # print(cmd.command)\"bat\"\n",
    "\n",
    "    # cmd.reset_default_values()\n",
    "    # print(cmd.command)"
   ]
  },
  {
   "cell_type": "code",
   "execution_count": 703,
   "metadata": {},
   "outputs": [
    {
     "name": "stdout",
     "output_type": "stream",
     "text": [
      "Type: <class 'tuple'> | Length: 4 | Items: ('awks', 'xterm', 'kitty', 'awk')\n",
      "Type: <class 'list'> | Length: 5 | Items: ['cat', 'bat', 'bal', 'yay', 'paru']\n",
      "Type: <class 'list'> | Length: 3 | Items: ['kittsy', 'alacgritty', 'st']\n",
      "Type: <class 'list'> | Length: 1 | Items: ['pop']\n",
      "Type: <class 'list'> | Length: 4 | Items: ['curseradio', 'btm', 'xterm', 'cat']\n",
      "Type: <class 'list'> | Length: 4 | Items: ['btm', 'alacritty', 'kitty', 'st']\n",
      "Type: <class 'list'> | Length: 1 | Items: ['bat']\n"
     ]
    }
   ],
   "source": [
    "cmd = Command()\n",
    "\n",
    "cmd.command = tuple_of_strings\n",
    "print(f'Type: {type(cmd.command)} | Length: {len(cmd.command)} | Items: {cmd.command}')\n",
    "\n",
    "cmd.command = list_of_strings\n",
    "print(f'Type: {type(cmd.command)} | Length: {len(cmd.command)} | Items: {cmd.command}')\n",
    "\n",
    "cmd.command = dict_of_strings\n",
    "print(f'Type: {type(cmd.command)} | Length: {len(cmd.command)} | Items: {cmd.command}')\n",
    "\n",
    "cmd.command = single_string\n",
    "print(f'Type: {type(cmd.command)} | Length: {len(cmd.command)} | Items: {cmd.command}')\n",
    "\n",
    "cmd.command = strings_sep_space\n",
    "print(f'Type: {type(cmd.command)} | Length: {len(cmd.command)} | Items: {cmd.command}')\n",
    "\n",
    "cmd.command = strings_sep_comma\n",
    "print(f'Type: {type(cmd.command)} | Length: {len(cmd.command)} | Items: {cmd.command}')\n",
    "\n",
    "cmd.command = \"bat\"\n",
    "print(f'Type: {type(cmd.command)} | Length: {len(cmd.command)} | Items: {cmd.command}')"
   ]
  },
  {
   "cell_type": "markdown",
   "metadata": {},
   "source": [
    "## Main"
   ]
  },
  {
   "cell_type": "markdown",
   "metadata": {},
   "source": [
    "### Available"
   ]
  },
  {
   "cell_type": "code",
   "execution_count": 704,
   "metadata": {},
   "outputs": [],
   "source": [
    "def wehave(cmd):\n",
    "    CMD = Command()\n",
    "    CMD.command = cmd\n",
    "    \n",
    "    for cmd in CMD.command:\n",
    "        if which(cmd):\n",
    "            return cmd\n",
    "            break\n",
    "    # else:\n",
    "    #     raise ValueError(f\"Verify wehave `{cmd}` installed.\")"
   ]
  },
  {
   "cell_type": "code",
   "execution_count": 705,
   "metadata": {},
   "outputs": [
    {
     "name": "stdout",
     "output_type": "stream",
     "text": [
      "Items: ['cat', 'bat', 'bal', 'yay', 'paru'] | Type: <class 'str'> | Avaliable: cat\n",
      "Items: ('awks', 'xterm', 'kitty', 'awk') | Type: <class 'str'> | Avaliable: xterm\n",
      "Items: {'kittsy': '-class', 'alacgritty': '--class', 'st': '-c'} | Type: <class 'str'> | Avaliable: st\n",
      "Items: curseradio btm xterm cat | Type: <class 'str'> | Avaliable: curseradio\n",
      "Items: btm,alacritty,kitty,st | Type: <class 'str'> | Avaliable: btm\n",
      "Items: pop | Type: <class 'NoneType'> | Avaliable: None\n"
     ]
    }
   ],
   "source": [
    "print(f'Items: {list_of_strings} | Type: {type(wehave(list_of_strings))} | Avaliable: {wehave(list_of_strings)}')\n",
    "print(f'Items: {tuple_of_strings} | Type: {type(wehave(tuple_of_strings))} | Avaliable: {wehave(tuple_of_strings)}')\n",
    "print(f'Items: {dict_of_strings} | Type: {type(wehave(dict_of_strings))} | Avaliable: {wehave(dict_of_strings)}')\n",
    "print(f'Items: {strings_sep_space} | Type: {type(wehave(strings_sep_space))} | Avaliable: {wehave(strings_sep_space)}')\n",
    "print(f'Items: {strings_sep_comma} | Type: {type(wehave(strings_sep_comma))} | Avaliable: {wehave(strings_sep_comma)}')\n",
    "print(f'Items: {single_string} | Type: {type(wehave(single_string))} | Avaliable: {wehave(single_string)}')\n"
   ]
  },
  {
   "cell_type": "markdown",
   "metadata": {},
   "source": [
    "### Location"
   ]
  },
  {
   "cell_type": "code",
   "execution_count": 706,
   "metadata": {},
   "outputs": [],
   "source": [
    "def wehave_location(cmd):\n",
    "    CMD = Command()\n",
    "    CMD.command = cmd\n",
    "    \n",
    "    for cmd in CMD.command:\n",
    "        if which(cmd):\n",
    "            return which(cmd)\n",
    "            break\n",
    "    else:\n",
    "        raise ValueError(f\"Verify wehave `{cmd}` installed.\")\n"
   ]
  },
  {
   "cell_type": "code",
   "execution_count": 707,
   "metadata": {},
   "outputs": [
    {
     "name": "stdout",
     "output_type": "stream",
     "text": [
      "Avaliable: xterm | Location: /bin/xterm\n",
      "Avaliable: cat | Location: /bin/cat\n",
      "Avaliable: st | Location: /bin/st\n",
      "Avaliable: curseradio | Location: /bin/curseradio\n",
      "Avaliable: btm | Location: /bin/btm\n"
     ]
    },
    {
     "ename": "ValueError",
     "evalue": "Verify wehave `pop` installed.",
     "output_type": "error",
     "traceback": [
      "\u001b[0;31m---------------------------------------------------------------------------\u001b[0m",
      "\u001b[0;31mValueError\u001b[0m                                Traceback (most recent call last)",
      "\u001b[1;32m/home/qc/.config/qtile/tests/wehave.ipynb Cell 15\u001b[0m in \u001b[0;36m<cell line: 6>\u001b[0;34m()\u001b[0m\n\u001b[1;32m      <a href='vscode-notebook-cell:/home/qc/.config/qtile/tests/wehave.ipynb#X44sZmlsZQ%3D%3D?line=3'>4</a>\u001b[0m \u001b[39mprint\u001b[39m(\u001b[39mf\u001b[39m\u001b[39m'\u001b[39m\u001b[39mAvaliable: \u001b[39m\u001b[39m{\u001b[39;00mwehave(strings_sep_space)\u001b[39m}\u001b[39;00m\u001b[39m | Location: \u001b[39m\u001b[39m{\u001b[39;00mwehave_location(strings_sep_space)\u001b[39m}\u001b[39;00m\u001b[39m'\u001b[39m)\n\u001b[1;32m      <a href='vscode-notebook-cell:/home/qc/.config/qtile/tests/wehave.ipynb#X44sZmlsZQ%3D%3D?line=4'>5</a>\u001b[0m \u001b[39mprint\u001b[39m(\u001b[39mf\u001b[39m\u001b[39m'\u001b[39m\u001b[39mAvaliable: \u001b[39m\u001b[39m{\u001b[39;00mwehave(strings_sep_comma)\u001b[39m}\u001b[39;00m\u001b[39m | Location: \u001b[39m\u001b[39m{\u001b[39;00mwehave_location(strings_sep_comma)\u001b[39m}\u001b[39;00m\u001b[39m'\u001b[39m)\n\u001b[0;32m----> <a href='vscode-notebook-cell:/home/qc/.config/qtile/tests/wehave.ipynb#X44sZmlsZQ%3D%3D?line=5'>6</a>\u001b[0m \u001b[39mprint\u001b[39m(\u001b[39mf\u001b[39m\u001b[39m'\u001b[39m\u001b[39mAvaliable: \u001b[39m\u001b[39m{\u001b[39;00mwehave(single_string)\u001b[39m}\u001b[39;00m\u001b[39m | Location: \u001b[39m\u001b[39m{\u001b[39;00mwehave_location(single_string)\u001b[39m}\u001b[39;00m\u001b[39m'\u001b[39m)\n",
      "\u001b[1;32m/home/qc/.config/qtile/tests/wehave.ipynb Cell 15\u001b[0m in \u001b[0;36mwehave_location\u001b[0;34m(cmd)\u001b[0m\n\u001b[1;32m      <a href='vscode-notebook-cell:/home/qc/.config/qtile/tests/wehave.ipynb#X44sZmlsZQ%3D%3D?line=7'>8</a>\u001b[0m         \u001b[39mbreak\u001b[39;00m\n\u001b[1;32m      <a href='vscode-notebook-cell:/home/qc/.config/qtile/tests/wehave.ipynb#X44sZmlsZQ%3D%3D?line=8'>9</a>\u001b[0m \u001b[39melse\u001b[39;00m:\n\u001b[0;32m---> <a href='vscode-notebook-cell:/home/qc/.config/qtile/tests/wehave.ipynb#X44sZmlsZQ%3D%3D?line=9'>10</a>\u001b[0m     \u001b[39mraise\u001b[39;00m \u001b[39mValueError\u001b[39;00m(\u001b[39mf\u001b[39m\u001b[39m\"\u001b[39m\u001b[39mVerify wehave `\u001b[39m\u001b[39m{\u001b[39;00mcmd\u001b[39m}\u001b[39;00m\u001b[39m` installed.\u001b[39m\u001b[39m\"\u001b[39m)\n",
      "\u001b[0;31mValueError\u001b[0m: Verify wehave `pop` installed."
     ]
    }
   ],
   "source": [
    "print(f'Avaliable: {wehave(tuple_of_strings)} | Location: {wehave_location(tuple_of_strings)}')\n",
    "print(f'Avaliable: {wehave(list_of_strings)} | Location: {wehave_location(list_of_strings)}')\n",
    "print(f'Avaliable: {wehave(dict_of_strings)} | Location: {wehave_location(dict_of_strings)}')\n",
    "print(f'Avaliable: {wehave(strings_sep_space)} | Location: {wehave_location(strings_sep_space)}')\n",
    "print(f'Avaliable: {wehave(strings_sep_comma)} | Location: {wehave_location(strings_sep_comma)}')\n",
    "print(f'Avaliable: {wehave(single_string)} | Location: {wehave_location(single_string)}')"
   ]
  }
 ],
 "metadata": {
  "kernelspec": {
   "display_name": "Python 3.10.6 64-bit",
   "language": "python",
   "name": "python3"
  },
  "language_info": {
   "codemirror_mode": {
    "name": "ipython",
    "version": 3
   },
   "file_extension": ".py",
   "mimetype": "text/x-python",
   "name": "python",
   "nbconvert_exporter": "python",
   "pygments_lexer": "ipython3",
   "version": "3.10.6"
  },
  "orig_nbformat": 4,
  "vscode": {
   "interpreter": {
    "hash": "e7370f93d1d0cde622a1f8e1c04877d8463912d04d973331ad4851f04de6915a"
   }
  }
 },
 "nbformat": 4,
 "nbformat_minor": 2
}
